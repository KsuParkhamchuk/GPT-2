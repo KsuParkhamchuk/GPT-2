{
 "cells": [
  {
   "cell_type": "code",
   "execution_count": 7,
   "metadata": {},
   "outputs": [
    {
     "name": "stdout",
     "output_type": "stream",
     "text": [
      "<PowBackward0 object at 0x128ddc760>\n",
      "((<AddBackward0 object at 0x1282f31c0>, 0), (<AccumulateGrad object at 0x128dfa5f0>, 0))\n",
      "tensor(0.1000)\n"
     ]
    }
   ],
   "source": [
    "import torch\n",
    "\n",
    "a = torch.tensor(2.0)\n",
    "b = torch.tensor(3.0)\n",
    "a.requires_grad = True\n",
    "b.requires_grad = True\n",
    "c = a + b\n",
    "d = torch.tensor(10.0)\n",
    "d.requires_grad = True\n",
    "e = c * d\n",
    "f = c / d\n",
    "g = f ** 2\n",
    "\n",
    "g.backward()\n",
    "print(g.grad_fn)\n",
    "print(f.grad_fn.next_functions)\n",
    "print(a.grad)\n"
   ]
  },
  {
   "cell_type": "code",
   "execution_count": 20,
   "metadata": {},
   "outputs": [
    {
     "name": "stdout",
     "output_type": "stream",
     "text": [
      "0\n",
      "tensor(5.)\n",
      "tensor(10.)\n"
     ]
    }
   ],
   "source": [
    "class Value:\n",
    "    def __init__(self, data, requires_grad=False):\n",
    "        self.data = data\n",
    "        self.grad = 0\n",
    "        self.requires_grad = requires_grad\n",
    "        # stores previous value for refernce during backpropagation\n",
    "        self.prev = []\n",
    "        self._backward = lambda: None\n",
    "\n",
    "    def __add__(self, other):\n",
    "        # standard add operation\n",
    "        result = Value(self.data + other.data)\n",
    "        if self.requires_grad or other.required_grad:\n",
    "            # automatically define requires_grad for the result value \n",
    "            result.requires_grad = True\n",
    "            # save references for the result value\n",
    "            result.prev = [self, other]\n",
    "            # use to calculate gradient\n",
    "            def _backward():\n",
    "                if self.requires_grad:\n",
    "                    print(result.grad * 1)\n",
    "                    self.grad = result.grad * 1\n",
    "                if other.requires_grad:\n",
    "                    print(result.grad * 1)\n",
    "                    other.grad = result.grad * 1\n",
    "            # use _backward function to calculate gradients\n",
    "            result._backward = _backward\n",
    "        return result\n",
    "    \n",
    "    def __mul__(self, other):\n",
    "        result = Value(self.data * other.data)\n",
    "        if self.requires_grad or other.requires_grad:\n",
    "            result.requires_grad = True\n",
    "            result.prev = [self, other]\n",
    "            def _backward():\n",
    "                if self.requires_grad:\n",
    "                    print(result.grad * other.data)\n",
    "                    self.grad = result.grad * other.data\n",
    "                if other.requires_grad:\n",
    "                    print(result.grad * self.data)\n",
    "                    other.grad = result.grad * self.data\n",
    "\n",
    "            result._backward = _backward\n",
    "\n",
    "        return result\n",
    "\n",
    "    def backward(self):\n",
    "        # Derivative of final input with respect to itself\n",
    "        self.grad = 1.0\n",
    "        topo = []\n",
    "        visited = set()\n",
    "\n",
    "        # transform graph into the liner ordering of its vertices (topological sort)\n",
    "        def build_topo(value):\n",
    "            if value not in visited:\n",
    "                visited.add(value)\n",
    "                for item in value.prev:\n",
    "                    build_topo(item)\n",
    "                topo.append(value)\n",
    "        \n",
    "        build_topo(self)\n",
    "        # calculate gradients in a resersed order starting from the final output\n",
    "        for i in reversed(topo):\n",
    "            i._backward()\n",
    "\n",
    "v1 = Value(torch.tensor(2.0), requires_grad = True)\n",
    "v2 = Value(torch.tensor(3.0), requires_grad = False)\n",
    "v3 = v1 + v2\n",
    "v4 = Value(torch.tensor(10.0), requires_grad=True)\n",
    "v5 = v4 * v3\n",
    "v5.backward()"
   ]
  },
  {
   "cell_type": "code",
   "execution_count": null,
   "metadata": {},
   "outputs": [],
   "source": []
  }
 ],
 "metadata": {
  "kernelspec": {
   "display_name": ".venv",
   "language": "python",
   "name": "python3"
  },
  "language_info": {
   "codemirror_mode": {
    "name": "ipython",
    "version": 3
   },
   "file_extension": ".py",
   "mimetype": "text/x-python",
   "name": "python",
   "nbconvert_exporter": "python",
   "pygments_lexer": "ipython3",
   "version": "3.12.2"
  }
 },
 "nbformat": 4,
 "nbformat_minor": 2
}
