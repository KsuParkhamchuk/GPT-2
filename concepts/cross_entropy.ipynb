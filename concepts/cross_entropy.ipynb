{
 "cells": [
  {
   "cell_type": "markdown",
   "metadata": {},
   "source": [
    "## Entropy\n",
    "\n",
    "Entropy measures the amount of uncertainty or the average amount of information in a single probability distribution.\n",
    "\n",
    "\n",
    "### Definition\n",
    "- **Low entropy state**: Predictable system, contains small amount of information\n",
    "- **High entropy state**: Unpredictable system, contains large amount of information\n",
    "\n",
    "\n",
    "### Mathematical Formula\n",
    "$$\n",
    "H(X) = -\\sum_{i} p_i \\log(p_i)\n",
    "$$\n",
    "\n",
    "\n",
    "**where**:\n",
    "- H(X) is the entropy\n",
    "- p_i is the probability of each outcome in event X\n",
    "- -log(p_i) is the surprise (amount of information about output i)\n",
    "- Σ sums all pieces of information to measure the overall predictability (entropy) of the event\n",
    "\n",
    "The sum of all probabilities must equal 1: $$\\sum_{i} p_i = 1$$\n",
    "\n",
    "**Learning materials**\n",
    "- https://www.youtube.com/watch?v=KHVR587oW8I"
   ]
  },
  {
   "cell_type": "code",
   "execution_count": 7,
   "metadata": {},
   "outputs": [
    {
     "name": "stdout",
     "output_type": "stream",
     "text": [
      "Information content of a fair coin flip (p=0.5): 1.0 bits\n",
      "Information content of rolling of a die (p=1/6): 2.584962500721156 bits\n",
      "Information content of a very likely event (p=0.9): 0.15200309344504995 bits\n"
     ]
    }
   ],
   "source": [
    "\n",
    "import numpy as np\n",
    "\n",
    "def information_content(p):\n",
    "    return -np.log2(p)\n",
    "\n",
    "print(f\"Information content of a fair coin flip (p=0.5): {information_content(0.5)} bits\")\n",
    "print(f\"Information content of rolling of a die (p=1/6): {information_content(1/6)} bits\")\n",
    "print(f\"Information content of a very likely event (p=0.9): {information_content(0.9)} bits\")\n"
   ]
  },
  {
   "cell_type": "markdown",
   "metadata": {},
   "source": [
    "**Entropy of rolling a die is bigger than entropy of coin flip**, because it has more possible outcomes, so you are more surprised to each possible outcome."
   ]
  },
  {
   "cell_type": "code",
   "execution_count": 22,
   "metadata": {},
   "outputs": [
    {
     "name": "stdout",
     "output_type": "stream",
     "text": [
      "Rolling a die entropy: 2.584962500721156\n",
      "Coin flip entropy: 1.0\n"
     ]
    }
   ],
   "source": [
    "d_die_rolling = [1/6, 1/6, 1/6, 1/6, 1/6, 1/6]\n",
    "d_coin_flip = [1/2, 1/2]\n",
    "\n",
    "def get_entropy(distribution):\n",
    "    return sum([p * -np.log2(p) for p in distribution]) \n",
    "\n",
    "print(f\"Rolling a die entropy: {get_entropy(d_die_rolling)}\")\n",
    "print(f\"Coin flip entropy: {get_entropy(d_coin_flip)}\")"
   ]
  },
  {
   "cell_type": "markdown",
   "metadata": {},
   "source": [
    "### Why using log?\n",
    "1. -log because log of 0 < p < 1 is negative, but the amount of info should be positive\n",
    "\n",
    "2. log of base 2 is used because of binary representation of information (1 bit represents 2 states, 2 bits represent 4 states, etc.)\n",
    "\n",
    "3. log ideally represents the relationship between probabilities and surprise\n",
    " \n",
    "**Suprise** - amount of information gained from an event (bigger surprise = more information, higher enq)\n",
    "(surprise of each independent output of the same probability contributes to the overall surprise equally, \n",
    "\n",
    "**which means** the roll die = 1 with probability 1/6 is as surprising as the roll die = 6 with probability 1/6, \n",
    "\n",
    "if the probability of two rolls is 1/6 * 1/6 then the overall surprise is **-log2(1/6) + -log2(1/6)**"
   ]
  },
  {
   "cell_type": "code",
   "execution_count": 8,
   "metadata": {},
   "outputs": [
    {
     "data": {
      "text/plain": [
       "Text(0, 0.5, 'surprise')"
      ]
     },
     "execution_count": 8,
     "metadata": {},
     "output_type": "execute_result"
    },
    {
     "data": {
      "image/png": "[encoded data removed]",
      "text/plain": [
       "<Figure size 640x480 with 1 Axes>"
      ]
     },
     "metadata": {},
     "output_type": "display_data"
    }
   ],
   "source": [
    "import matplotlib.pyplot as plt\n",
    "\n",
    "x = np.linspace(0.001, 1, 100)\n",
    "y = -np.log2(x)\n",
    "\n",
    "plt.plot(x, y, label=\"y= -log(x)\")\n",
    "plt.xlabel('probabilities')\n",
    "plt.ylabel('surprise')"
   ]
  },
  {
   "cell_type": "markdown",
   "metadata": {},
   "source": [
    "## Cross entropy\n",
    "Measures how well predicted distribution describes the events from true distribution.\n",
    "\n",
    "From the information theory perspective it measures how many bits do we need to describe the event from the true distribution with the help of the predicted distribution. \n",
    "Always ≥ then entropy\n",
    "\n",
    "### Formula\n",
    "$$\n",
    "H(p, q) = -\\sum_{i} p_i \\log(q_i)\n",
    "$$\n",
    "\n",
    "where:\n",
    "- p_i is the true probability of the event\n",
    "- q_i is the predicted probability of the event\n",
    "\n",
    "p_i acts as a weighting factor (how much of predicted information will be used in a total loss):"
   ]
  },
  {
   "cell_type": "code",
   "execution_count": 18,
   "metadata": {},
   "outputs": [
    {
     "name": "stdout",
     "output_type": "stream",
     "text": [
      "First outcome contribution: 0.5158759159163443\n",
      "Second outcome contribution: 0.39657842846620867\n"
     ]
    }
   ],
   "source": [
    "p = np.array([0.7, 0.3]) # true probabilities\n",
    "q = np.array([0.6, 0.4]) # predicted probabilities\n",
    "\n",
    "# Each term in cross entropy:\n",
    "print(\"First outcome contribution:\", -0.7 * np.log2(0.6))  # Higher weight because it's more common\n",
    "print(\"Second outcome contribution:\", -0.3 * np.log2(0.4))  # Lower weight because it's less common"
   ]
  },
  {
   "cell_type": "markdown",
   "metadata": {},
   "source": [
    "-log(q_i) measures an amount of information gained from the prediction\n",
    "\n",
    "-log2 give high penalties for small probabilities"
   ]
  },
  {
   "cell_type": "code",
   "execution_count": 15,
   "metadata": {},
   "outputs": [
    {
     "name": "stdout",
     "output_type": "stream",
     "text": [
      "Prediction 0.8, penalty: 0.3219280948873623\n",
      "Prediction 0.5, penalty: 1.0\n",
      "Prediction 0.2, penalty: 2.321928094887362\n"
     ]
    }
   ],
   "source": [
    "array = [0.8, 0.5, 0.2]\n",
    "\n",
    "for i in array:\n",
    "    penalty = -np.log2(i)\n",
    "    print(f\"Prediction {i}, penalty: {penalty}\")"
   ]
  },
  {
   "cell_type": "markdown",
   "metadata": {},
   "source": [
    "### Comparison of total loss for:\n",
    " \n",
    "**Close predictions:** \n",
    "- [0.8, 0.2] - true probabilities\n",
    "- [0.7, 0.3] - predicted probabilities\n",
    "\n",
    "**Wrong predictions:**\n",
    "- [0.8, 0.2] - true probabilities\n",
    "- [0.2, 0.8] - predicted probabilities\n"
   ]
  },
  {
   "cell_type": "code",
   "execution_count": 17,
   "metadata": {},
   "outputs": [
    {
     "name": "stdout",
     "output_type": "stream",
     "text": [
      "Loss for predictions = [0.7, 0.3], true = [0.8, 0.2]\n",
      "true probability=0.8, prediction=0.7, loss = 0.4116585382638067\n",
      "true probability=0.2, prediction=0.3, loss = 0.3473931188332413\n",
      "0.759051657097048\n",
      "Loss for predictions = [0.2, 0.8], true = [0.8, 0.2]\n",
      "true probability=0.8, prediction=0.2, loss = 1.8575424759098897\n",
      "true probability=0.2, prediction=0.8, loss = 0.06438561897747246\n",
      "1.9219280948873623\n"
     ]
    }
   ],
   "source": [
    "p = [0.8, 0.2]\n",
    "q1 = [0.7, 0.3]\n",
    "q2 = [0.2, 0.8]\n",
    "\n",
    "def calculate_loss(p,q):\n",
    "    print(f\"Loss for predictions = {q}, true = {p}\")\n",
    "    total_loss = 0\n",
    "    for idx, i in enumerate(p):\n",
    "        ij_loss = i * -np.log2(q[idx])\n",
    "        total_loss += ij_loss\n",
    "        print(f\"true probability={i}, prediction={q[idx]}, loss = {ij_loss}\")\n",
    "\n",
    "    return total_loss\n",
    "\n",
    "print(calculate_loss(p, q1))\n",
    "print(calculate_loss(p, q2))"
   ]
  },
  {
   "cell_type": "markdown",
   "metadata": {},
   "source": [
    "## Kullback-Leibler divergence\n",
    "Measures how much one distribution differs from another.\n",
    "\n",
    "With respect to information theory it represents how many extra bits do we need to describe the event from one distribution with a help of another\n",
    "\n",
    "### Mathematical formula\n",
    "$$\n",
    "D_{KL}(p, q) = H(p, q) - H(p)\n",
    "$$\n",
    "\n",
    "where:\n",
    "- p is the true probability distribution\n",
    "- q is the predicted probability distribution\n",
    "\n",
    "KL Divergence hows how many extra bits do we waste, while cross entropy is focused on how many bits do we need."
   ]
  },
  {
   "cell_type": "code",
   "execution_count": 26,
   "metadata": {},
   "outputs": [
    {
     "name": "stdout",
     "output_type": "stream",
     "text": [
      "Loss for predictions = [0.8, 0.1, 0.1], true = [0.6, 0.2, 0.2]\n",
      "true probability=0.6, prediction=0.8, loss = 0.19315685693241738\n",
      "true probability=0.2, prediction=0.1, loss = 0.6643856189774725\n",
      "true probability=0.2, prediction=0.1, loss = 0.6643856189774725\n",
      "Entropy of q = 1.3709505944546687\n",
      "Cross entropy loss = 1.5219280948873624\n",
      "Kullback-Leibler divergence = 0.15097750043269365\n"
     ]
    }
   ],
   "source": [
    "# Model that classifies pets images\n",
    "# Actual dataset: 60% - cats, 20% - dogs, 20% - rabbits\n",
    "# Predicted probabilities: 70% - cats, 10% - dogs, 20% rabbits\n",
    "\n",
    "p = [0.6, 0.2, 0.2]\n",
    "q = [0.8, 0.1, 0.1]\n",
    "\n",
    "def get_kl_divergence(e, c_e):\n",
    "    return c_e - e\n",
    "\n",
    "entropy = get_entropy(p)\n",
    "cross_entropy = calculate_loss(p, q)\n",
    "kl_divergence = get_kl_divergence(entropy, cross_entropy)\n",
    "\n",
    "print(f\"Entropy of q = {entropy}\")\n",
    "print(f\"Cross entropy loss = {cross_entropy}\")\n",
    "print(f\"Kullback-Leibler divergence = {kl_divergence}\")"
   ]
  },
  {
   "cell_type": "markdown",
   "metadata": {},
   "source": [
    "### Applications\n",
    "\n",
    "1. Good for understanding how many room for improvement left\n",
    "\n",
    "2. To compare two models"
   ]
  }
 ],
 "metadata": {
  "kernelspec": {
   "display_name": ".venv",
   "language": "python",
   "name": "python3"
  },
  "language_info": {
   "codemirror_mode": {
    "name": "ipython",
    "version": 3
   },
   "file_extension": ".py",
   "mimetype": "text/x-python",
   "name": "python",
   "nbconvert_exporter": "python",
   "pygments_lexer": "ipython3",
   "version": "3.12.2"
  }
 },
 "nbformat": 4,
 "nbformat_minor": 2
}
